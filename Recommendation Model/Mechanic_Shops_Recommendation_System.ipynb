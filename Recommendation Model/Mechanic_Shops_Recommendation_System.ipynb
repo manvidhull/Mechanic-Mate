{
  "cells": [
    {
      "cell_type": "markdown",
      "metadata": {
        "id": "WJi0sb2SZTtR"
      },
      "source": [
        "## **Recommender System - for mechanical shops**\n",
        "\n"
      ]
    },
    {
      "cell_type": "code",
      "execution_count": 17,
      "metadata": {
        "id": "sVgugOsoZTtc"
      },
      "outputs": [],
      "source": [
        "import pandas as pd\n",
        "import numpy as np"
      ]
    },
    {
      "cell_type": "code",
      "execution_count": 18,
      "metadata": {
        "id": "rrhAjSDvZTti"
      },
      "outputs": [],
      "source": [
        "Rating_Matrix=pd.read_csv('/content/RatingList - RatingList.csv',encoding ='latin')"
      ]
    },
    {
      "cell_type": "code",
      "execution_count": 19,
      "metadata": {
        "colab": {
          "base_uri": "https://localhost:8080/",
          "height": 206
        },
        "id": "AXbf1iApZTtj",
        "outputId": "3a0894ce-53b4-496a-b69b-bdec8569f853"
      },
      "outputs": [
        {
          "output_type": "execute_result",
          "data": {
            "text/plain": [
              "   userId        mechanical-shop  rating\n",
              "0     755     Universal service        1\n",
              "1     755  Rafi mechanical works       5\n",
              "2     755                   VGR        2\n",
              "3     755             SRV motors       4\n",
              "4     755     Babu mechanic shop       4"
            ],
            "text/html": [
              "\n",
              "  <div id=\"df-d3cc342f-7def-4df5-9670-73639cab6686\">\n",
              "    <div class=\"colab-df-container\">\n",
              "      <div>\n",
              "<style scoped>\n",
              "    .dataframe tbody tr th:only-of-type {\n",
              "        vertical-align: middle;\n",
              "    }\n",
              "\n",
              "    .dataframe tbody tr th {\n",
              "        vertical-align: top;\n",
              "    }\n",
              "\n",
              "    .dataframe thead th {\n",
              "        text-align: right;\n",
              "    }\n",
              "</style>\n",
              "<table border=\"1\" class=\"dataframe\">\n",
              "  <thead>\n",
              "    <tr style=\"text-align: right;\">\n",
              "      <th></th>\n",
              "      <th>userId</th>\n",
              "      <th>mechanical-shop</th>\n",
              "      <th>rating</th>\n",
              "    </tr>\n",
              "  </thead>\n",
              "  <tbody>\n",
              "    <tr>\n",
              "      <th>0</th>\n",
              "      <td>755</td>\n",
              "      <td>Universal service</td>\n",
              "      <td>1</td>\n",
              "    </tr>\n",
              "    <tr>\n",
              "      <th>1</th>\n",
              "      <td>755</td>\n",
              "      <td>Rafi mechanical works</td>\n",
              "      <td>5</td>\n",
              "    </tr>\n",
              "    <tr>\n",
              "      <th>2</th>\n",
              "      <td>755</td>\n",
              "      <td>VGR</td>\n",
              "      <td>2</td>\n",
              "    </tr>\n",
              "    <tr>\n",
              "      <th>3</th>\n",
              "      <td>755</td>\n",
              "      <td>SRV motors</td>\n",
              "      <td>4</td>\n",
              "    </tr>\n",
              "    <tr>\n",
              "      <th>4</th>\n",
              "      <td>755</td>\n",
              "      <td>Babu mechanic shop</td>\n",
              "      <td>4</td>\n",
              "    </tr>\n",
              "  </tbody>\n",
              "</table>\n",
              "</div>\n",
              "      <button class=\"colab-df-convert\" onclick=\"convertToInteractive('df-d3cc342f-7def-4df5-9670-73639cab6686')\"\n",
              "              title=\"Convert this dataframe to an interactive table.\"\n",
              "              style=\"display:none;\">\n",
              "        \n",
              "  <svg xmlns=\"http://www.w3.org/2000/svg\" height=\"24px\"viewBox=\"0 0 24 24\"\n",
              "       width=\"24px\">\n",
              "    <path d=\"M0 0h24v24H0V0z\" fill=\"none\"/>\n",
              "    <path d=\"M18.56 5.44l.94 2.06.94-2.06 2.06-.94-2.06-.94-.94-2.06-.94 2.06-2.06.94zm-11 1L8.5 8.5l.94-2.06 2.06-.94-2.06-.94L8.5 2.5l-.94 2.06-2.06.94zm10 10l.94 2.06.94-2.06 2.06-.94-2.06-.94-.94-2.06-.94 2.06-2.06.94z\"/><path d=\"M17.41 7.96l-1.37-1.37c-.4-.4-.92-.59-1.43-.59-.52 0-1.04.2-1.43.59L10.3 9.45l-7.72 7.72c-.78.78-.78 2.05 0 2.83L4 21.41c.39.39.9.59 1.41.59.51 0 1.02-.2 1.41-.59l7.78-7.78 2.81-2.81c.8-.78.8-2.07 0-2.86zM5.41 20L4 18.59l7.72-7.72 1.47 1.35L5.41 20z\"/>\n",
              "  </svg>\n",
              "      </button>\n",
              "      \n",
              "  <style>\n",
              "    .colab-df-container {\n",
              "      display:flex;\n",
              "      flex-wrap:wrap;\n",
              "      gap: 12px;\n",
              "    }\n",
              "\n",
              "    .colab-df-convert {\n",
              "      background-color: #E8F0FE;\n",
              "      border: none;\n",
              "      border-radius: 50%;\n",
              "      cursor: pointer;\n",
              "      display: none;\n",
              "      fill: #1967D2;\n",
              "      height: 32px;\n",
              "      padding: 0 0 0 0;\n",
              "      width: 32px;\n",
              "    }\n",
              "\n",
              "    .colab-df-convert:hover {\n",
              "      background-color: #E2EBFA;\n",
              "      box-shadow: 0px 1px 2px rgba(60, 64, 67, 0.3), 0px 1px 3px 1px rgba(60, 64, 67, 0.15);\n",
              "      fill: #174EA6;\n",
              "    }\n",
              "\n",
              "    [theme=dark] .colab-df-convert {\n",
              "      background-color: #3B4455;\n",
              "      fill: #D2E3FC;\n",
              "    }\n",
              "\n",
              "    [theme=dark] .colab-df-convert:hover {\n",
              "      background-color: #434B5C;\n",
              "      box-shadow: 0px 1px 3px 1px rgba(0, 0, 0, 0.15);\n",
              "      filter: drop-shadow(0px 1px 2px rgba(0, 0, 0, 0.3));\n",
              "      fill: #FFFFFF;\n",
              "    }\n",
              "  </style>\n",
              "\n",
              "      <script>\n",
              "        const buttonEl =\n",
              "          document.querySelector('#df-d3cc342f-7def-4df5-9670-73639cab6686 button.colab-df-convert');\n",
              "        buttonEl.style.display =\n",
              "          google.colab.kernel.accessAllowed ? 'block' : 'none';\n",
              "\n",
              "        async function convertToInteractive(key) {\n",
              "          const element = document.querySelector('#df-d3cc342f-7def-4df5-9670-73639cab6686');\n",
              "          const dataTable =\n",
              "            await google.colab.kernel.invokeFunction('convertToInteractive',\n",
              "                                                     [key], {});\n",
              "          if (!dataTable) return;\n",
              "\n",
              "          const docLinkHtml = 'Like what you see? Visit the ' +\n",
              "            '<a target=\"_blank\" href=https://colab.research.google.com/notebooks/data_table.ipynb>data table notebook</a>'\n",
              "            + ' to learn more about interactive tables.';\n",
              "          element.innerHTML = '';\n",
              "          dataTable['output_type'] = 'display_data';\n",
              "          await google.colab.output.renderOutput(dataTable, element);\n",
              "          const docLink = document.createElement('div');\n",
              "          docLink.innerHTML = docLinkHtml;\n",
              "          element.appendChild(docLink);\n",
              "        }\n",
              "      </script>\n",
              "    </div>\n",
              "  </div>\n",
              "  "
            ]
          },
          "metadata": {},
          "execution_count": 19
        }
      ],
      "source": [
        "Rating_Matrix.head(5)"
      ]
    },
    {
      "cell_type": "markdown",
      "metadata": {
        "id": "LWvZpO9KZTtr"
      },
      "source": [
        "# Read the rating matrix as edge list"
      ]
    },
    {
      "cell_type": "code",
      "execution_count": 20,
      "metadata": {
        "colab": {
          "base_uri": "https://localhost:8080/"
        },
        "id": "YkPpJe_hZTts",
        "outputId": "a84745a1-310b-4fd7-9ea0-8e8f8c2a4ac6"
      },
      "outputs": [
        {
          "output_type": "stream",
          "name": "stdout",
          "text": [
            "Shape= (49, 3)\n",
            "Rows= 49\n",
            "Columns= 3\n",
            "\n",
            "\n",
            "   userId        mechanical-shop  rating\n",
            "0     755     Universal service        1\n",
            "1     755  Rafi mechanical works       5\n",
            "2     755                   VGR        2\n",
            "3     755             SRV motors       4\n",
            "4     755     Babu mechanic shop       4\n"
          ]
        }
      ],
      "source": [
        "Ratings=pd.read_csv('/content/RatingList - RatingList.csv',encoding ='latin')\n",
        "print('Shape=',Ratings.shape)\n",
        "print('Rows=',Ratings.shape[0])\n",
        "print('Columns=',Ratings.shape[1])\n",
        "print('\\n')\n",
        "print(Ratings.head(5))"
      ]
    },
    {
      "cell_type": "code",
      "source": [
        "Ratings.head"
      ],
      "metadata": {
        "colab": {
          "base_uri": "https://localhost:8080/"
        },
        "id": "96cwCjx1lHKq",
        "outputId": "1b67eaec-d67c-4919-bef3-c68b174ba43c"
      },
      "execution_count": 21,
      "outputs": [
        {
          "output_type": "execute_result",
          "data": {
            "text/plain": [
              "<bound method NDFrame.head of     userId            mechanical-shop  rating\n",
              "0      755         Universal service        1\n",
              "1      755      Rafi mechanical works       5\n",
              "2      755                       VGR        2\n",
              "3      755                 SRV motors       4\n",
              "4      755         Babu mechanic shop       4\n",
              "5      755                     vijaya       2\n",
              "6      755                  Rayan pvt       2\n",
              "7      755         Stand alone motors       3\n",
              "8      755            Giri automobile       2\n",
              "9      755                    Mahavir       5\n",
              "10     755                   Sprinter       2\n",
              "11     755                     Matrix       4\n",
              "12     755                MBR motors        2\n",
              "13     755     ND vehicle care center       5\n",
              "14    5277         Universal service        5\n",
              "15    5277      Rafi mechanical works       3\n",
              "16    5277            Eliyas Mechanic       2\n",
              "17    5277                 SRV motors       4\n",
              "18    5277         Babu mechanic shop       2\n",
              "19    5277                     vijaya       1\n",
              "20    5277                  Rayan pvt       1\n",
              "21    5277         Stand alone motors       4\n",
              "22    5277            Giri automobile       3\n",
              "23    5277                 Total care       2\n",
              "24    5277                    Mahavir       2\n",
              "25    5277  Ground car service center       2\n",
              "26    5277                MBR motors        5\n",
              "27    5277     ND vehicle care center       1\n",
              "28    5277     Janata vehicles center       3\n",
              "29    1577            Eliyas Mechanic       5\n",
              "30    1577                 SRV motors       2\n",
              "31    1577                       VGR        4\n",
              "32    1577                  Rayan pvt       4\n",
              "33    1577         Stand alone motors       1\n",
              "34    1577                 Total care       1\n",
              "35    1577                    Mahavir       4\n",
              "36    1577                   Sprinter       4\n",
              "37    1577  Ground car service center       1\n",
              "38    1577                     Matrix       1\n",
              "39    1577                MBR motors        2\n",
              "40    1577     ND vehicle care center       3\n",
              "41    1577     Janata vehicles center       1\n",
              "42    1577           Babu automobiles       3\n",
              "43    4388      Rafi mechanical works       3\n",
              "44    4388         Babu mechanic shop       1\n",
              "45    4388                     vijaya       2\n",
              "46    4388                  Rayan pvt       3\n",
              "47    4388     Janata vehicles center       4\n",
              "48    4388                 Total care       4>"
            ]
          },
          "metadata": {},
          "execution_count": 21
        }
      ]
    },
    {
      "cell_type": "markdown",
      "metadata": {
        "id": "MWewOL7xZTtv"
      },
      "source": [
        "# Recommendations based on simple summary statistics\n",
        "## Task 1: Popularity based on count of ratings"
      ]
    },
    {
      "cell_type": "code",
      "execution_count": 22,
      "metadata": {
        "colab": {
          "base_uri": "https://localhost:8080/"
        },
        "id": "iIKD1OHQZTtx",
        "outputId": "58fcf9bc-3557-489f-9b9b-13c1de4f91f3"
      },
      "outputs": [
        {
          "output_type": "stream",
          "name": "stdout",
          "text": [
            "           mechanical-shop  Rating_count\n",
            "11               Rayan pvt             4\n",
            "9   ND vehicle care center             3\n",
            "1       Babu mechanic shop             3\n",
            "15              Total care             3\n",
            "14      Stand alone motors             3\n"
          ]
        }
      ],
      "source": [
        "Ratings_count=Ratings.groupby(['mechanical-shop'])[['rating']].count().rename(columns = {'rating': 'Rating_count'}).reset_index()\n",
        "#print(Ratings_count)\n",
        "Ratings_count = Ratings_count.sort_values(['Rating_count'], ascending=False)\n",
        "print(Ratings_count.head(5))"
      ]
    },
    {
      "cell_type": "markdown",
      "metadata": {
        "id": "UqVakKjcZTt1"
      },
      "source": [
        "## Task 2: Popularity based Mean of ratings\n",
        "## Calculating mean ratings\n",
        "\n"
      ]
    },
    {
      "cell_type": "code",
      "execution_count": 23,
      "metadata": {
        "colab": {
          "base_uri": "https://localhost:8080/"
        },
        "id": "BnFMuEaUZTt3",
        "outputId": "663c7e0a-633f-4710-c4bb-81b160223476"
      },
      "outputs": [
        {
          "output_type": "stream",
          "name": "stdout",
          "text": [
            "          mechanical-shop  Mean_rating\n",
            "10  Rafi mechanical works     3.666667\n",
            "7                 Mahavir     3.666667\n",
            "2         Eliyas Mechanic     3.500000\n",
            "12             SRV motors     3.333333\n",
            "0        Babu automobiles     3.000000\n"
          ]
        }
      ],
      "source": [
        "Ratings_mean=Ratings.groupby(['mechanical-shop'])[['rating']].mean().rename(columns = {'rating': 'Mean_rating'}).reset_index()\n",
        "#print(Ratings_mean)\n",
        "Ratings_mean = Ratings_mean.sort_values(['Mean_rating'], ascending=False)\n",
        "#print(Ratings_mean)\n",
        "print(Ratings_mean.head(5))\n",
        "\n",
        "#Ratings_mean[Ratings_mean['movieId']==1203]"
      ]
    },
    {
      "cell_type": "markdown",
      "metadata": {
        "id": "73OkyMfUZTt5"
      },
      "source": [
        "## Task 3: Popularity based on simple summary statistics: Count of ratings above a threshold\n"
      ]
    },
    {
      "cell_type": "code",
      "execution_count": 24,
      "metadata": {
        "colab": {
          "base_uri": "https://localhost:8080/"
        },
        "id": "fLSqi6IgZTt6",
        "outputId": "d96b2a13-bd3b-4cea-e0dc-589756cdea1e"
      },
      "outputs": [
        {
          "output_type": "stream",
          "name": "stdout",
          "text": [
            "          mechanical-shop  rating\n",
            "4                 Mahavir       2\n",
            "9              SRV motors       2\n",
            "0      Babu mechanic shop       1\n",
            "1         Eliyas Mechanic       1\n",
            "2  Janata vehicles center       1\n",
            "3             MBR motors        1\n"
          ]
        }
      ],
      "source": [
        "Ratings_above_threshold=(Ratings.query('rating>=4')).filter(['mechanical-shop','rating'])\n",
        "#print(Ratings_above_threshold)\n",
        "\n",
        "Ratings_count_above_threshold=Ratings_above_threshold.groupby(['mechanical-shop']).count().rename(columns = {'mechanical-shop':'rating'}).reset_index()\n",
        "#print(Ratings_count_above_threshold)\n",
        "\n",
        "Ratings_count_above_threshold=Ratings_count_above_threshold.sort_values(['rating'], ascending=False)\n",
        "print(Ratings_count_above_threshold.head(6))"
      ]
    },
    {
      "cell_type": "markdown",
      "metadata": {
        "id": "vXpYDYOsZTt8"
      },
      "source": [
        "## Task 4: Popularity based on Damped mean of ratings\n",
        "### Damped mean of item $i$ is defined as follows:\n",
        "# $ damped\\_mean(i)= \\frac{\\sum\\limits_{u \\in U} {r_{ui} + k\\mu}}{n+k}$ \n",
        "### Calculating damped mean using k = 5"
      ]
    },
    {
      "cell_type": "code",
      "execution_count": 26,
      "metadata": {
        "colab": {
          "base_uri": "https://localhost:8080/",
          "height": 206
        },
        "id": "6tUmDgItZTt-",
        "outputId": "8240a4c2-a0cd-456c-bd31-665ef411d119"
      },
      "outputs": [
        {
          "output_type": "execute_result",
          "data": {
            "text/plain": [
              "          mechanical-shop  Mean_rating  damped_mean\n",
              "0   Rafi mechanical works     3.666667     3.109694\n",
              "1                 Mahavir     3.666667     3.109694\n",
              "3              SRV motors     3.333333     2.984694\n",
              "2         Eliyas Mechanic     3.500000     2.982507\n",
              "8  ND vehicle care center     3.000000     2.859694"
            ],
            "text/html": [
              "\n",
              "  <div id=\"df-c339d107-5b18-48ee-a71f-2f619878f009\">\n",
              "    <div class=\"colab-df-container\">\n",
              "      <div>\n",
              "<style scoped>\n",
              "    .dataframe tbody tr th:only-of-type {\n",
              "        vertical-align: middle;\n",
              "    }\n",
              "\n",
              "    .dataframe tbody tr th {\n",
              "        vertical-align: top;\n",
              "    }\n",
              "\n",
              "    .dataframe thead th {\n",
              "        text-align: right;\n",
              "    }\n",
              "</style>\n",
              "<table border=\"1\" class=\"dataframe\">\n",
              "  <thead>\n",
              "    <tr style=\"text-align: right;\">\n",
              "      <th></th>\n",
              "      <th>mechanical-shop</th>\n",
              "      <th>Mean_rating</th>\n",
              "      <th>damped_mean</th>\n",
              "    </tr>\n",
              "  </thead>\n",
              "  <tbody>\n",
              "    <tr>\n",
              "      <th>0</th>\n",
              "      <td>Rafi mechanical works</td>\n",
              "      <td>3.666667</td>\n",
              "      <td>3.109694</td>\n",
              "    </tr>\n",
              "    <tr>\n",
              "      <th>1</th>\n",
              "      <td>Mahavir</td>\n",
              "      <td>3.666667</td>\n",
              "      <td>3.109694</td>\n",
              "    </tr>\n",
              "    <tr>\n",
              "      <th>3</th>\n",
              "      <td>SRV motors</td>\n",
              "      <td>3.333333</td>\n",
              "      <td>2.984694</td>\n",
              "    </tr>\n",
              "    <tr>\n",
              "      <th>2</th>\n",
              "      <td>Eliyas Mechanic</td>\n",
              "      <td>3.500000</td>\n",
              "      <td>2.982507</td>\n",
              "    </tr>\n",
              "    <tr>\n",
              "      <th>8</th>\n",
              "      <td>ND vehicle care center</td>\n",
              "      <td>3.000000</td>\n",
              "      <td>2.859694</td>\n",
              "    </tr>\n",
              "  </tbody>\n",
              "</table>\n",
              "</div>\n",
              "      <button class=\"colab-df-convert\" onclick=\"convertToInteractive('df-c339d107-5b18-48ee-a71f-2f619878f009')\"\n",
              "              title=\"Convert this dataframe to an interactive table.\"\n",
              "              style=\"display:none;\">\n",
              "        \n",
              "  <svg xmlns=\"http://www.w3.org/2000/svg\" height=\"24px\"viewBox=\"0 0 24 24\"\n",
              "       width=\"24px\">\n",
              "    <path d=\"M0 0h24v24H0V0z\" fill=\"none\"/>\n",
              "    <path d=\"M18.56 5.44l.94 2.06.94-2.06 2.06-.94-2.06-.94-.94-2.06-.94 2.06-2.06.94zm-11 1L8.5 8.5l.94-2.06 2.06-.94-2.06-.94L8.5 2.5l-.94 2.06-2.06.94zm10 10l.94 2.06.94-2.06 2.06-.94-2.06-.94-.94-2.06-.94 2.06-2.06.94z\"/><path d=\"M17.41 7.96l-1.37-1.37c-.4-.4-.92-.59-1.43-.59-.52 0-1.04.2-1.43.59L10.3 9.45l-7.72 7.72c-.78.78-.78 2.05 0 2.83L4 21.41c.39.39.9.59 1.41.59.51 0 1.02-.2 1.41-.59l7.78-7.78 2.81-2.81c.8-.78.8-2.07 0-2.86zM5.41 20L4 18.59l7.72-7.72 1.47 1.35L5.41 20z\"/>\n",
              "  </svg>\n",
              "      </button>\n",
              "      \n",
              "  <style>\n",
              "    .colab-df-container {\n",
              "      display:flex;\n",
              "      flex-wrap:wrap;\n",
              "      gap: 12px;\n",
              "    }\n",
              "\n",
              "    .colab-df-convert {\n",
              "      background-color: #E8F0FE;\n",
              "      border: none;\n",
              "      border-radius: 50%;\n",
              "      cursor: pointer;\n",
              "      display: none;\n",
              "      fill: #1967D2;\n",
              "      height: 32px;\n",
              "      padding: 0 0 0 0;\n",
              "      width: 32px;\n",
              "    }\n",
              "\n",
              "    .colab-df-convert:hover {\n",
              "      background-color: #E2EBFA;\n",
              "      box-shadow: 0px 1px 2px rgba(60, 64, 67, 0.3), 0px 1px 3px 1px rgba(60, 64, 67, 0.15);\n",
              "      fill: #174EA6;\n",
              "    }\n",
              "\n",
              "    [theme=dark] .colab-df-convert {\n",
              "      background-color: #3B4455;\n",
              "      fill: #D2E3FC;\n",
              "    }\n",
              "\n",
              "    [theme=dark] .colab-df-convert:hover {\n",
              "      background-color: #434B5C;\n",
              "      box-shadow: 0px 1px 3px 1px rgba(0, 0, 0, 0.15);\n",
              "      filter: drop-shadow(0px 1px 2px rgba(0, 0, 0, 0.3));\n",
              "      fill: #FFFFFF;\n",
              "    }\n",
              "  </style>\n",
              "\n",
              "      <script>\n",
              "        const buttonEl =\n",
              "          document.querySelector('#df-c339d107-5b18-48ee-a71f-2f619878f009 button.colab-df-convert');\n",
              "        buttonEl.style.display =\n",
              "          google.colab.kernel.accessAllowed ? 'block' : 'none';\n",
              "\n",
              "        async function convertToInteractive(key) {\n",
              "          const element = document.querySelector('#df-c339d107-5b18-48ee-a71f-2f619878f009');\n",
              "          const dataTable =\n",
              "            await google.colab.kernel.invokeFunction('convertToInteractive',\n",
              "                                                     [key], {});\n",
              "          if (!dataTable) return;\n",
              "\n",
              "          const docLinkHtml = 'Like what you see? Visit the ' +\n",
              "            '<a target=\"_blank\" href=https://colab.research.google.com/notebooks/data_table.ipynb>data table notebook</a>'\n",
              "            + ' to learn more about interactive tables.';\n",
              "          element.innerHTML = '';\n",
              "          dataTable['output_type'] = 'display_data';\n",
              "          await google.colab.output.renderOutput(dataTable, element);\n",
              "          const docLink = document.createElement('div');\n",
              "          docLink.innerHTML = docLinkHtml;\n",
              "          element.appendChild(docLink);\n",
              "        }\n",
              "      </script>\n",
              "    </div>\n",
              "  </div>\n",
              "  "
            ]
          },
          "metadata": {},
          "execution_count": 26
        }
      ],
      "source": [
        "k=5\n",
        "Ratings_sum=Ratings.groupby(['mechanical-shop'])[['rating']].sum().rename(columns = {'rating': 'sum_rating'}).reset_index()\n",
        "#print(Ratings_sum)\n",
        "#print(Ratings['rating'].mean())\n",
        "\n",
        "Ratings_sum['sum_rating_factor']=Ratings_sum['sum_rating']+k*(Ratings['rating'].mean())\n",
        "#print(Ratings_sum)\n",
        "\n",
        "Ratings_count=Ratings.groupby(['mechanical-shop'])[['rating']].count().rename(columns = {'rating': 'count_rating'}).reset_index()\n",
        "#print(Ratings_count)\n",
        "\n",
        "Ratings_count['count_rating_factor']=Ratings_count['count_rating']+k\n",
        "#print(Ratings_count)\n",
        "\n",
        "Ratings_damped=pd.merge(Ratings_sum,Ratings_count[['mechanical-shop','count_rating','count_rating_factor']],on=['mechanical-shop'],how='left')\n",
        "#print(Ratings_damped)\n",
        "\n",
        "Ratings_damped['damped_mean']=Ratings_damped['sum_rating_factor']/Ratings_damped['count_rating_factor']\n",
        "#print(Ratings_damped)\n",
        "\n",
        "Ratings_mean_dampmean=pd.merge(Ratings_mean[['mechanical-shop','Mean_rating']],Ratings_damped[['mechanical-shop','damped_mean']],on=['mechanical-shop'],how='left')\n",
        "#print(Ratings_mean_dampmean)\n",
        "\n",
        "# Sorting to get top rated movies\n",
        "Ratings_mean_dampmean = Ratings_mean_dampmean.sort_values(['damped_mean'], ascending=False)\n",
        "#print(Ratings_mean_dampmean)\n",
        "\n",
        "Ratings_mean_dampmean.head(5)"
      ]
    }
  ],
  "metadata": {
    "kernelspec": {
      "display_name": "Python 3",
      "language": "python",
      "name": "python3"
    },
    "language_info": {
      "codemirror_mode": {
        "name": "ipython",
        "version": 3
      },
      "file_extension": ".py",
      "mimetype": "text/x-python",
      "name": "python",
      "nbconvert_exporter": "python",
      "pygments_lexer": "ipython3",
      "version": "3.6.5"
    },
    "colab": {
      "provenance": []
    }
  },
  "nbformat": 4,
  "nbformat_minor": 0
}